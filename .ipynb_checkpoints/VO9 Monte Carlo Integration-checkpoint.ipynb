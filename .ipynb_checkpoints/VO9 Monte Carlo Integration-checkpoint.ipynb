{
 "cells": [
  {
   "cell_type": "markdown",
   "metadata": {},
   "source": [
    "# VO9 Monte Carlo Integration"
   ]
  },
  {
   "cell_type": "markdown",
   "metadata": {},
   "source": [
    "https://www.scratchapixel.com/lessons/mathematics-physics-for-computer-graphics/monte-carlo-methods-in-practice/monte-carlo-integration"
   ]
  },
  {
   "cell_type": "code",
   "execution_count": 1,
   "metadata": {},
   "outputs": [],
   "source": [
    "import numpy as np\n",
    "import random\n",
    "import math\n",
    "\n",
    "import matplotlib\n",
    "import matplotlib.pyplot as plt\n",
    "\n",
    "from tqdm import tqdm_notebook as tqdm"
   ]
  },
  {
   "cell_type": "markdown",
   "metadata": {},
   "source": [
    "## Calculate PI"
   ]
  },
  {
   "cell_type": "code",
   "execution_count": 2,
   "metadata": {},
   "outputs": [
    {
     "name": "stdout",
     "output_type": "stream",
     "text": [
      "3.141924\n"
     ]
    }
   ],
   "source": [
    "length = 1000000\n",
    "x, y = np.random.rand(length), np.random.rand(length)\n",
    "\n",
    "accept = 0\n",
    "for i in range(length):\n",
    "    if(x[i]**2 + y[i]**2 <= 1):\n",
    "        accept += 1\n",
    "\n",
    "print(4*accept/length)"
   ]
  },
  {
   "cell_type": "code",
   "execution_count": 3,
   "metadata": {},
   "outputs": [
    {
     "data": {
      "application/vnd.jupyter.widget-view+json": {
       "model_id": "c372023dff6341a586a184b7343c1d3b",
       "version_major": 2,
       "version_minor": 0
      },
      "text/plain": [
       "HBox(children=(IntProgress(value=0, max=10000001), HTML(value='')))"
      ]
     },
     "metadata": {},
     "output_type": "display_data"
    },
    {
     "name": "stdout",
     "output_type": "stream",
     "text": [
      "curr result: 8.0000, error: 4.8584e+00 at iteration: 1\n",
      "curr result: 4.0000, error: 8.5841e-01 at iteration: 10\n",
      "curr result: 3.1200, error: 2.1593e-02 at iteration: 100\n",
      "curr result: 3.0440, error: 9.7593e-02 at iteration: 1000\n",
      "curr result: 3.1316, error: 9.9927e-03 at iteration: 10000\n",
      "curr result: 3.1401, error: 1.4727e-03 at iteration: 100000\n",
      "curr result: 3.1413, error: 3.1665e-04 at iteration: 1000000\n",
      "curr result: 3.1418, error: 1.9295e-04 at iteration: 10000000\n",
      "\n"
     ]
    }
   ],
   "source": [
    "length = 10000000\n",
    "exact_solution = np.pi\n",
    "\n",
    "print_list = [10**item for item in np.arange(9)]\n",
    "\n",
    "accept = 0\n",
    "for i in tqdm(range(length+1)):\n",
    "    if(random.random()**2 + random.random()**2 <= 1):\n",
    "        accept += 1\n",
    "    if(i in print_list):\n",
    "        print(\"curr result: %.4f, error: %.4e at iteration: %i\" % (\n",
    "            4*accept/i, abs(exact_solution-4*accept/i), i))"
   ]
  },
  {
   "cell_type": "markdown",
   "metadata": {},
   "source": [
    "## Integrate e^-2x from 0 to inf"
   ]
  },
  {
   "cell_type": "code",
   "execution_count": 4,
   "metadata": {},
   "outputs": [
    {
     "data": {
      "application/vnd.jupyter.widget-view+json": {
       "model_id": "d1cd1eb99cfe4ce1a85aa0d372caec3f",
       "version_major": 2,
       "version_minor": 0
      },
      "text/plain": [
       "HBox(children=(IntProgress(value=0, max=10000001), HTML(value='')))"
      ]
     },
     "metadata": {},
     "output_type": "display_data"
    },
    {
     "name": "stdout",
     "output_type": "stream",
     "text": [
      "curr result: 0.0000, error: 5.0000e-01 at iteration: 1\n",
      "curr result: 0.0000, error: 5.0000e-01 at iteration: 10\n",
      "curr result: 0.9000, error: 4.0000e-01 at iteration: 100\n",
      "curr result: 0.5500, error: 5.0000e-02 at iteration: 1000\n",
      "curr result: 0.5060, error: 6.0000e-03 at iteration: 10000\n",
      "curr result: 0.5107, error: 1.0700e-02 at iteration: 100000\n",
      "curr result: 0.5010, error: 9.7000e-04 at iteration: 1000000\n",
      "curr result: 0.5000, error: 4.9000e-05 at iteration: 10000000\n",
      "\n"
     ]
    }
   ],
   "source": [
    "length = 10000000\n",
    "max_x = 10\n",
    "exact_solution = 0.5\n",
    "\n",
    "print_list = [10**item for item in np.arange(9)]\n",
    "\n",
    "accept = 0\n",
    "for i in tqdm(range(length+1)):\n",
    "    if(math.exp(-2*random.random()*max_x) >= random.random()):\n",
    "        accept += 1\n",
    "    if(i in print_list):\n",
    "        print(\"curr result: %.4f, error: %.4e at iteration: %i\" % (\n",
    "            max_x*accept/i, abs(exact_solution-max_x*accept/i), i))"
   ]
  },
  {
   "cell_type": "markdown",
   "metadata": {},
   "source": [
    "## Recap Non Uniform Random Distributions"
   ]
  },
  {
   "cell_type": "code",
   "execution_count": 51,
   "metadata": {},
   "outputs": [],
   "source": [
    "def show_dist(length, inverse_probability_function, first_derivative_prob_function):\n",
    "    x = np.random.rand(length)\n",
    "    plt.title(\"Unformly distributed random numbers\", fontsize=12)\n",
    "    plt.hist(x, bins=100)\n",
    "    plt.show()\n",
    "    plt.close()\n",
    "\n",
    "    x_non_uniform = inverse_probability_function(x)\n",
    "    plt.title(\"Non-uniformly, e^-x distributed random numbers\", fontsize=12)\n",
    "    plt.hist(x_non_uniform, bins=100)\n",
    "    plt.show()\n",
    "    plt.close()\n",
    "\n",
    "    # the PDF - probability density function is the derivative of the probability function\n",
    "    # http://mathworld.wolfram.com/DistributionFunction.html\n",
    "    x_axis = np.arange(int(max(x_non_uniform)*100))/100\n",
    "    pdf = abs(first_derivative_prob_function(x_axis))\n",
    "    plt.title(\"PDF of e^-x distributed random numbers\", fontsize=12)\n",
    "    plt.plot(x_axis, pdf)\n",
    "    plt.show()\n",
    "    plt.close()\n",
    "    \n",
    "    return None"
   ]
  },
  {
   "cell_type": "code",
   "execution_count": 85,
   "metadata": {
    "scrolled": false
   },
   "outputs": [
    {
     "data": {
      "image/png": "[encoded data removed]",
      "text/plain": [
       "<matplotlib.figure.Figure at 0x113482c88>"
      ]
     },
     "metadata": {
      "needs_background": "light"
     },
     "output_type": "display_data"
    },
    {
     "data": {
      "image/png": "[encoded data removed]",
      "text/plain": [
       "<matplotlib.figure.Figure at 0x10de8ff28>"
      ]
     },
     "metadata": {
      "needs_background": "light"
     },
     "output_type": "display_data"
    },
    {
     "data": {
      "image/png": "[encoded data removed]",
      "text/plain": [
       "<matplotlib.figure.Figure at 0x12c9ef128>"
      ]
     },
     "metadata": {
      "needs_background": "light"
     },
     "output_type": "display_data"
    }
   ],
   "source": [
    "# the probability function is e^-x\n",
    "\n",
    "length = 1000000\n",
    "\n",
    "# the inverse of the probability function is -ln(x)\n",
    "def inverse_probability_function(x):\n",
    "    return -np.log(x)\n",
    "\n",
    "# the derivative of e^-x is -e^-x, the pdf can only have positive values, so abs(-e^-x)\n",
    "def first_derivative_prob_function(x): # PDF\n",
    "    return -np.exp(-x)\n",
    "    \n",
    "show_dist(length, inverse_probability_function, first_derivative_prob_function)"
   ]
  },
  {
   "cell_type": "code",
   "execution_count": 74,
   "metadata": {},
   "outputs": [
    {
     "data": {
      "image/png": "[encoded data removed]",
      "text/plain": [
       "<matplotlib.figure.Figure at 0x10cd27588>"
      ]
     },
     "metadata": {
      "needs_background": "light"
     },
     "output_type": "display_data"
    },
    {
     "data": {
      "image/png": "[encoded data removed]",
      "text/plain": [
       "<matplotlib.figure.Figure at 0x11344ce48>"
      ]
     },
     "metadata": {
      "needs_background": "light"
     },
     "output_type": "display_data"
    },
    {
     "data": {
      "image/png": "[encoded data removed]",
      "text/plain": [
       "<matplotlib.figure.Figure at 0x10d21c978>"
      ]
     },
     "metadata": {
      "needs_background": "light"
     },
     "output_type": "display_data"
    }
   ],
   "source": [
    "# the probability function is x^-2\n",
    "\n",
    "length = 1000000\n",
    "\n",
    "# the inverse of the probability function is -ln(x)\n",
    "def inverse_probability_function(x):\n",
    "    return -np.sqrt(x)\n",
    "\n",
    "# the derivative of x^-2 is -2x\n",
    "def first_derivative_prob_function(x): # PDF\n",
    "    return -2*x\n",
    "    \n",
    "show_dist(length, inverse_probability_function, first_derivative_prob_function)"
   ]
  },
  {
   "cell_type": "markdown",
   "metadata": {},
   "source": [
    "## Importance Sampling"
   ]
  },
  {
   "cell_type": "code",
   "execution_count": 90,
   "metadata": {},
   "outputs": [],
   "source": [
    "def inverse_probability_function(x):\n",
    "    return -np.log(x)\n",
    "\n",
    "def pdf(x): # PDF\n",
    "    return abs(-np.exp(-x))\n",
    "\n",
    "x = np.random.rand(length)\n",
    "x_non_uniform = inverse_probability_function(x)\n",
    "# pdf(x_non_uniform)"
   ]
  },
  {
   "cell_type": "code",
   "execution_count": 91,
   "metadata": {},
   "outputs": [
    {
     "data": {
      "application/vnd.jupyter.widget-view+json": {
       "model_id": "e83e4bc36d394223a5ea74170de34153",
       "version_major": 2,
       "version_minor": 0
      },
      "text/plain": [
       "HBox(children=(IntProgress(value=0, max=10000001), HTML(value='')))"
      ]
     },
     "metadata": {},
     "output_type": "display_data"
    },
    {
     "name": "stdout",
     "output_type": "stream",
     "text": [
      "curr result: 0.0000, error: 5.0000e-01 at iteration: 1\n",
      "curr result: 0.6006, error: 1.0061e-01 at iteration: 10\n",
      "curr result: 0.5727, error: 7.2719e-02 at iteration: 100\n",
      "curr result: 0.4781, error: 2.1873e-02 at iteration: 1000\n",
      "curr result: 0.4922, error: 7.7812e-03 at iteration: 10000\n",
      "curr result: 0.4955, error: 4.4665e-03 at iteration: 100000\n",
      "curr result: 0.5015, error: 1.5160e-03 at iteration: 1000000\n",
      "curr result: 0.5001, error: 5.7015e-05 at iteration: 10000000\n"
     ]
    }
   ],
   "source": [
    "length = 10000000\n",
    "exact_solution = 0.5\n",
    "\n",
    "print_list = [10**item for item in np.arange(9)]\n",
    "\n",
    "accept = 0\n",
    "for i in tqdm(range(length+1)):\n",
    "    curr_x = inverse_probability_function(random.random())\n",
    "    if(math.exp(-2*curr_x) >= random.random()):\n",
    "        accept += 1/pdf(curr_x)\n",
    "\n",
    "    if(i in print_list):\n",
    "        print(\"curr result: %.4f, error: %.4e at iteration: %i\" % (\n",
    "            accept/i, abs(exact_solution-accept/i), i))"
   ]
  },
  {
   "cell_type": "code",
   "execution_count": 81,
   "metadata": {},
   "outputs": [
    {
     "data": {
      "application/vnd.jupyter.widget-view+json": {
       "model_id": "16eb735fc6bc46bda0bfb02aaf27a453",
       "version_major": 2,
       "version_minor": 0
      },
      "text/plain": [
       "HBox(children=(IntProgress(value=0, max=10000001), HTML(value='')))"
      ]
     },
     "metadata": {},
     "output_type": "display_data"
    },
    {
     "name": "stdout",
     "output_type": "stream",
     "text": [
      "curr result: 0.0000, error: 5.0000e-01 at iteration: 1\n",
      "curr result: 0.0000, error: 5.0000e-01 at iteration: 10\n",
      "curr result: 0.6000, error: 1.0000e-01 at iteration: 100\n",
      "curr result: 0.4900, error: 1.0000e-02 at iteration: 1000\n",
      "curr result: 0.4960, error: 4.0000e-03 at iteration: 10000\n",
      "curr result: 0.4970, error: 3.0000e-03 at iteration: 100000\n",
      "curr result: 0.4976, error: 2.4100e-03 at iteration: 1000000\n",
      "curr result: 0.4998, error: 2.0300e-04 at iteration: 10000000\n"
     ]
    }
   ],
   "source": [
    "length = 10000000\n",
    "max_x = 10\n",
    "exact_solution = 0.5\n",
    "\n",
    "print_list = [10**item for item in np.arange(9)]\n",
    "\n",
    "accept = 0\n",
    "for i in tqdm(range(length+1)):\n",
    "    if(math.exp(-2*random.random()*max_x) >= random.random()):\n",
    "        accept += 1\n",
    "    if(i in print_list):\n",
    "        print(\"curr result: %.4f, error: %.4e at iteration: %i\" % (\n",
    "            max_x*accept/i, abs(exact_solution-max_x*accept/i), i))"
   ]
  },
  {
   "cell_type": "code",
   "execution_count": null,
   "metadata": {},
   "outputs": [],
   "source": []
  }
 ],
 "metadata": {
  "kernelspec": {
   "display_name": "Python 3",
   "language": "python",
   "name": "python3"
  },
  "language_info": {
   "codemirror_mode": {
    "name": "ipython",
    "version": 3
   },
   "file_extension": ".py",
   "mimetype": "text/x-python",
   "name": "python",
   "nbconvert_exporter": "python",
   "pygments_lexer": "ipython3",
   "version": "3.6.6"
  }
 },
 "nbformat": 4,
 "nbformat_minor": 2
}
