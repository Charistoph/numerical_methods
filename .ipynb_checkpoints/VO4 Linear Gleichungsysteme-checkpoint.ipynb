{
 "cells": [
  {
   "cell_type": "markdown",
   "metadata": {},
   "source": [
    "# VO4 Linear Gleichungsysteme"
   ]
  },
  {
   "cell_type": "code",
   "execution_count": 1,
   "metadata": {},
   "outputs": [],
   "source": [
    "import numpy as np\n",
    "import random\n",
    "\n",
    "import matplotlib\n",
    "import matplotlib.pyplot as plt"
   ]
  },
  {
   "cell_type": "markdown",
   "metadata": {},
   "source": [
    "# Gauss Elemination"
   ]
  },
  {
   "cell_type": "markdown",
   "metadata": {},
   "source": [
    "A*x=f -> find x given a and f\n",
    "1. Triangulate Matrix A\n",
    "2. Get x recursively bottom to top"
   ]
  },
  {
   "cell_type": "markdown",
   "metadata": {},
   "source": [
    "## Create Linear Equation System"
   ]
  },
  {
   "cell_type": "markdown",
   "metadata": {},
   "source": [
    "### Pivot Matrix"
   ]
  },
  {
   "cell_type": "code",
   "execution_count": 199,
   "metadata": {},
   "outputs": [],
   "source": [
    "# Sort by largest elem. under or in diagonal\n",
    "\n",
    "def pivot_matrix(mat, verbose=False):\n",
    "    permuted_indices = np.arange(mat.shape[1])\n",
    "    if(verbose):\n",
    "        print(\"permuted_indices\", permuted_indices)\n",
    "\n",
    "    for i in range(mat.shape[1]):\n",
    "        new_idx = np.argmax(mat[i:,i])\n",
    "    #     print(mat[i:,i], new_idx)\n",
    "        if(new_idx == 0):\n",
    "            if(verbose):\n",
    "                print(\"do nothing\")\n",
    "        elif(new_idx > 0):\n",
    "            if(verbose):\n",
    "                print(\"index switch:\", [i+new_idx, i])\n",
    "            mat[[i, i+new_idx]] = mat[[i+new_idx, i]]\n",
    "            permuted_indices[[i, i+new_idx]] = permuted_indices[[i+new_idx, i]]\n",
    "\n",
    "    if(verbose):\n",
    "        print(\"permuted_indices\", permuted_indices)\n",
    "    \n",
    "    # return indices as well if you need to sort a second matrix based on the computed permutations\n",
    "    return mat, permuted_indices"
   ]
  },
  {
   "cell_type": "code",
   "execution_count": 206,
   "metadata": {},
   "outputs": [],
   "source": [
    "def generate_linear_sys():\n",
    "    # create a\n",
    "    while(True):\n",
    "        a = np.array(np.random.randint(low=1, high=50, size=(3, 3)), dtype=np.float64)\n",
    "\n",
    "        # test if matrix generated really has no 0's in diagonal\n",
    "        break_while = True\n",
    "        for i in range(a.shape[0]):\n",
    "            if(a[i,i] == 0):\n",
    "                break_while = False\n",
    "        if(break_while):\n",
    "            break\n",
    "            \n",
    "    # permute a\n",
    "    a, permuted_indices = pivot_matrix(a)\n",
    "    \n",
    "    # create x\n",
    "    x = np.array([3,1,4], dtype=np.float64)\n",
    "    \n",
    "    # calculate f\n",
    "    f = np.matmul(a,x) # == sum(a[0]*x), sum(a[1]*x), sum(a[2]*x)\n",
    "    \n",
    "    return a,x,f"
   ]
  },
  {
   "cell_type": "code",
   "execution_count": 207,
   "metadata": {},
   "outputs": [
    {
     "name": "stdout",
     "output_type": "stream",
     "text": [
      "[[ 23.  16.  48.]\n",
      " [  2.  31.  39.]\n",
      " [ 14.  23.  26.]]\n",
      "[ 3.  1.  4.]\n",
      "[ 277.  193.  169.]\n"
     ]
    }
   ],
   "source": [
    "a,x,f = generate_linear_sys()\n",
    "x_orig = x\n",
    "a_orig = a\n",
    "print(a_orig)\n",
    "print(x_orig)\n",
    "print(f)"
   ]
  },
  {
   "cell_type": "markdown",
   "metadata": {},
   "source": [
    "### Triangulate Matrix"
   ]
  },
  {
   "cell_type": "code",
   "execution_count": 208,
   "metadata": {},
   "outputs": [],
   "source": [
    "c = np.c_[a, f]\n",
    "# print(c.shape)\n",
    "# print(c)\n",
    "\n",
    "for j in range(c.shape[0]):\n",
    "    for j_curr in range(j+1,c.shape[0]):\n",
    "#         print(j, c[j_curr], c[j_curr, j], c[j, j])\n",
    "        c[j_curr] -= c[j_curr, j]/c[j, j]*c[j]\n",
    "\n",
    "a = c[:,:-1]\n",
    "f = c[:,-1]\n",
    "# print(a)\n",
    "# print(f)\n",
    "# print(c)"
   ]
  },
  {
   "cell_type": "markdown",
   "metadata": {},
   "source": [
    "### Recusively determine x"
   ]
  },
  {
   "cell_type": "code",
   "execution_count": 209,
   "metadata": {},
   "outputs": [
    {
     "name": "stdout",
     "output_type": "stream",
     "text": [
      "x_orig             [ 3.  1.  4.]\n",
      "x via Euler Method [ 3.  1.  4.]\n"
     ]
    }
   ],
   "source": [
    "x = np.zeros(3)\n",
    "\n",
    "for j in reversed(range(a.shape[0])):\n",
    "#     print(j, f[j], x[j:], a[j,j:], a[j,j])\n",
    "    x[j] = (f[j] - np.matmul(x[j:], a[j,j:]))/a[j,j]\n",
    "    \n",
    "# for i in range(len(x)):\n",
    "#     assert x_orig[i] == x[i]\n",
    "\n",
    "print(\"x_orig            \", x_orig)\n",
    "print(\"x via Euler Method\", x)"
   ]
  },
  {
   "cell_type": "markdown",
   "metadata": {},
   "source": [
    "## TEST"
   ]
  },
  {
   "cell_type": "code",
   "execution_count": 210,
   "metadata": {},
   "outputs": [],
   "source": [
    "# for itr in range(100):\n",
    "#     while(True):\n",
    "#         a = np.array(np.random.randint(low=1, high=50, size=(3, 3)), dtype=np.float64)\n",
    "        \n",
    "#         # test if matrix generated really has no 0's in diagonal\n",
    "#         break_while = True\n",
    "#         for i in range(a.shape[0]):\n",
    "#             if(a[i,i] == 0):\n",
    "#                 break_while = False\n",
    "#         if(break_while):\n",
    "#             break\n",
    "#     # x = np.array(np.random.randint(low=1, high=3, size=(3)), dtype=np.float64)\n",
    "#     x = np.array([3,1,4], dtype=np.float64)\n",
    "#     a_orig = a\n",
    "#     x_orig = x\n",
    "\n",
    "#     a, permuted_indices = pivot_matrix(a)\n",
    "#     f = np.matmul(a,x) # == sum(a[0]*x), sum(a[1]*x), sum(a[2]*x)\n",
    "#     f_orig = f\n",
    "    \n",
    "#     c = np.c_[a, f]\n",
    "#     # print(c.shape)\n",
    "#     # print(c)\n",
    "\n",
    "#     for j in range(c.shape[0]):\n",
    "#         for j_curr in range(j+1,c.shape[0]):\n",
    "#     #         print(j, c[j_curr], c[j_curr, j], c[j, j])\n",
    "#             c[j_curr] -= c[j_curr, j]/c[j, j]*c[j]\n",
    "        \n",
    "#     a = c[:,:-1]\n",
    "#     f = c[:,-1]\n",
    "        \n",
    "#     x = np.zeros(3)\n",
    "\n",
    "#     for j in reversed(range(a.shape[0])):\n",
    "# #         print(j, f[j], x[j:], a[j,j:], a[j,j])\n",
    "#         x[j] = (f[j] - np.matmul(x[j:], a[j,j:]))/a[j,j]\n",
    "\n",
    "#     # for i in range(len(x)):\n",
    "#     #     assert x_orig[i] == x[i]\n",
    "\n",
    "#     print(\"x_orig            \", x_orig)\n",
    "#     print(\"x via Euler Method\", x)\n",
    "#     if(np.isnan(x).all()):\n",
    "#         break\n",
    "#     del(a,x,c,f)"
   ]
  },
  {
   "cell_type": "markdown",
   "metadata": {},
   "source": [
    "# LU Decomposition"
   ]
  },
  {
   "cell_type": "markdown",
   "metadata": {},
   "source": [
    "### Create Linear Equation System"
   ]
  },
  {
   "cell_type": "code",
   "execution_count": 211,
   "metadata": {},
   "outputs": [
    {
     "name": "stdout",
     "output_type": "stream",
     "text": [
      "[[ 29.  48.   4.]\n",
      " [ 14.  35.  22.]\n",
      " [ 16.  20.  31.]]\n",
      "[ 3.  1.  4.]\n",
      "[ 151.  165.  192.]\n"
     ]
    }
   ],
   "source": [
    "# incl. pivoting\n",
    "a,x,f = generate_linear_sys()\n",
    "x_orig = x\n",
    "a_orig = a\n",
    "print(a_orig)\n",
    "print(x_orig)\n",
    "print(f)"
   ]
  },
  {
   "cell_type": "markdown",
   "metadata": {},
   "source": [
    "### Triangulate Matrix"
   ]
  },
  {
   "cell_type": "code",
   "execution_count": 214,
   "metadata": {},
   "outputs": [
    {
     "name": "stdout",
     "output_type": "stream",
     "text": [
      "[[ 1.  0.  0.]\n",
      " [ 0.  1.  0.]\n",
      " [ 0.  0.  1.]]\n",
      "(3, 4)\n",
      "[[  29.           48.            4.          151.        ]\n",
      " [   0.           11.82758621   20.06896552   92.10344828]\n",
      " [   0.            0.           39.79300292  159.17201166]]\n"
     ]
    }
   ],
   "source": [
    "# Create Diagonal L Matrix\n",
    "L = np.zeros(shape=(3, 3))\n",
    "for i in range(len(L)):\n",
    "    L[i,i]=1\n",
    "print(L)\n",
    "\n",
    "\n",
    "U = np.c_[a, f]\n",
    "print(U.shape)\n",
    "print(U)\n",
    "\n",
    "for j in range(c.shape[0]):\n",
    "    for j_curr in range(j+1,c.shape[0]):\n",
    "#         print(j, U[j_curr], U[j_curr, j], U[j, j])\n",
    "        L[j_curr] -= U[j_curr, j]/U[j, j]*L[j]\n",
    "        U[j_curr] -= U[j_curr, j]/U[j, j]*U[j]\n",
    "\n",
    "a = U[:,:-1]\n",
    "f = U[:,-1]\n",
    "# print(a)\n",
    "# print(f)\n",
    "# print(c)"
   ]
  },
  {
   "cell_type": "markdown",
   "metadata": {},
   "source": [
    "### Recusively determine x"
   ]
  },
  {
   "cell_type": "code",
   "execution_count": 215,
   "metadata": {},
   "outputs": [
    {
     "name": "stdout",
     "output_type": "stream",
     "text": [
      "x_orig             [ 3.  1.  4.]\n",
      "x via Euler Method [ 3.  1.  4.]\n"
     ]
    }
   ],
   "source": [
    "x = np.zeros(3)\n",
    "\n",
    "for j in reversed(range(a.shape[0])):\n",
    "#     print(j, f[j], x[j:], a[j,j:], a[j,j])\n",
    "    x[j] = (f[j] - np.matmul(x[j:], a[j,j:]))/a[j,j]\n",
    "    \n",
    "# for i in range(len(x)):\n",
    "#     assert x_orig[i] == x[i]\n",
    "\n",
    "print(\"x_orig            \", x_orig)\n",
    "print(\"x via Euler Method\", x)"
   ]
  },
  {
   "cell_type": "code",
   "execution_count": null,
   "metadata": {},
   "outputs": [],
   "source": []
  }
 ],
 "metadata": {
  "kernelspec": {
   "display_name": "Python 3",
   "language": "python",
   "name": "python3"
  },
  "language_info": {
   "codemirror_mode": {
    "name": "ipython",
    "version": 3
   },
   "file_extension": ".py",
   "mimetype": "text/x-python",
   "name": "python",
   "nbconvert_exporter": "python",
   "pygments_lexer": "ipython3",
   "version": "3.6.6"
  }
 },
 "nbformat": 4,
 "nbformat_minor": 2
}
