{
 "cells": [
  {
   "cell_type": "markdown",
   "metadata": {},
   "source": [
    "## 2. Test Beispiele"
   ]
  },
  {
   "cell_type": "code",
   "execution_count": 1,
   "metadata": {},
   "outputs": [],
   "source": [
    "import os\n",
    "\n",
    "import numpy as np\n",
    "import random\n",
    "import math\n",
    "\n",
    "import matplotlib\n",
    "import matplotlib.pyplot as plt\n",
    "\n",
    "from tqdm import tqdm_notebook as tqdm"
   ]
  },
  {
   "cell_type": "markdown",
   "metadata": {},
   "source": [
    "## 2. Test 2011"
   ]
  },
  {
   "cell_type": "markdown",
   "metadata": {},
   "source": [
    "### Klassisch"
   ]
  },
  {
   "cell_type": "code",
   "execution_count": 75,
   "metadata": {},
   "outputs": [
    {
     "data": {
      "image/png": "[encoded data removed]",
      "text/plain": [
       "<matplotlib.figure.Figure at 0x11e4be1d0>"
      ]
     },
     "metadata": {
      "needs_background": "light"
     },
     "output_type": "display_data"
    }
   ],
   "source": [
    "# initialize\n",
    "length = 1000000\n",
    "\n",
    "# get random numbers\n",
    "rand = np.random.random(length)\n",
    "rand = rand*(np.exp(10)-np.exp(1))+np.exp(1)\n",
    "rand = np.log(rand)\n",
    "\n",
    "plt.hist(rand, bins=100);"
   ]
  },
  {
   "cell_type": "code",
   "execution_count": 46,
   "metadata": {},
   "outputs": [
    {
     "name": "stdout",
     "output_type": "stream",
     "text": [
      "I: 50.337447, error: -6.832553, length: 100\n",
      "I: 55.966893, error: -1.203107, length: 1000\n",
      "I: 56.587506, error: -0.582494, length: 10000\n",
      "I: 56.844908, error: -0.325092, length: 100000\n",
      "I: 57.454278, error: 0.284278, length: 1000000\n",
      "I: 57.191140, error: 0.021140, length: 10000000\n"
     ]
    }
   ],
   "source": [
    "# true solution (wolfram alpha)\n",
    "true_solution = 57.17\n",
    "\n",
    "# initialize\n",
    "length = 10\n",
    "\n",
    "def func(x):\n",
    "    return math.sin(x)*math.exp(x)/x**2\n",
    "\n",
    "for _ in range(6):\n",
    "    I = 0\n",
    "    length *= 10\n",
    "\n",
    "    # get random numbers\n",
    "    rand = np.random.random(length)\n",
    "    rand = rand*(np.exp(10)-np.exp(1))+np.exp(1)\n",
    "    rand = np.log(rand)\n",
    "\n",
    "    for i in range(length):\n",
    "        I += func(rand[i])/np.exp(rand[i])\n",
    "\n",
    "    I = I*np.exp(10)/length\n",
    "    print(\"I: %f, error: %f, length: %i\" % (I, I-true_solution, length))"
   ]
  },
  {
   "cell_type": "code",
   "execution_count": 55,
   "metadata": {
    "scrolled": true
   },
   "outputs": [
    {
     "name": "stdout",
     "output_type": "stream",
     "text": [
      "I: 64.389714, error: 7.219714, length: 100\n",
      "I: 49.284300, error: -7.885700, length: 1000\n",
      "I: 58.926916, error: 1.756916, length: 10000\n",
      "I: 58.101942, error: 0.931942, length: 100000\n",
      "I: 57.381888, error: 0.211888, length: 1000000\n",
      "I: 57.170472, error: 0.000472, length: 10000000\n"
     ]
    }
   ],
   "source": [
    "# No loops\n",
    "\n",
    "# true solution (wolfram alpha)\n",
    "true_solution = 57.17\n",
    "\n",
    "# initialize\n",
    "length = 10\n",
    "\n",
    "def func(x):\n",
    "    return np.sin(x)*np.exp(x)/x**2\n",
    "\n",
    "for _ in range(6):\n",
    "    I = 0\n",
    "    length *= 10\n",
    "\n",
    "    # get random numbers\n",
    "    rand = np.random.random(length)\n",
    "    rand = rand*(np.exp(10)-np.exp(1))+np.exp(1)\n",
    "    rand = np.log(rand)\n",
    "\n",
    "    I = np.sum(func(rand)/np.exp(rand))*np.exp(10)/length\n",
    "\n",
    "    print(\"I: %f, error: %f, length: %i\" % (I, I-true_solution, length))"
   ]
  },
  {
   "cell_type": "markdown",
   "metadata": {},
   "source": [
    "### Importance Sampling"
   ]
  },
  {
   "cell_type": "code",
   "execution_count": 161,
   "metadata": {},
   "outputs": [
    {
     "data": {
      "image/png": "[encoded data removed]",
      "text/plain": [
       "<matplotlib.figure.Figure at 0x110ed6a90>"
      ]
     },
     "metadata": {
      "needs_background": "light"
     },
     "output_type": "display_data"
    }
   ],
   "source": [
    "length = 1000000\n",
    "\n",
    "rand_zero_one = np.random.random(length)\n",
    "check = np.random.random(length)*9+1\n",
    "rand = []\n",
    "\n",
    "for i in range(length):\n",
    "    if(rand_zero_one[i] <= 1/check[i]**2):\n",
    "        rand.append(check[i])\n",
    "               \n",
    "plt.title(\"Distribution of random numbers\")\n",
    "plt.hist(rand, bins=100)\n",
    "x__ = np.arange(900)/100+1\n",
    "plt.plot(x__, 1/x__**2*10000)\n",
    "plt.show()\n",
    "plt.close()"
   ]
  },
  {
   "cell_type": "code",
   "execution_count": 164,
   "metadata": {
    "scrolled": true
   },
   "outputs": [
    {
     "name": "stdout",
     "output_type": "stream",
     "text": [
      "I: 0.706635, error: 0.055335, length: 100\n",
      "I: 0.676738, error: 0.025438, length: 1000\n",
      "I: 0.688285, error: 0.036985, length: 10000\n",
      "I: 0.692095, error: 0.040795, length: 100000\n",
      "I: 0.690148, error: 0.038848, length: 1000000\n",
      "I: 0.690613, error: 0.039313, length: 10000000\n"
     ]
    }
   ],
   "source": [
    "true_solution = 0.6513\n",
    "\n",
    "# initialize\n",
    "length = 10\n",
    "\n",
    "for _ in range(6):\n",
    "    accept = 0\n",
    "    length *= 10\n",
    "\n",
    "    # get random numbers\n",
    "    rand_zero_one = np.random.random(length)\n",
    "    check = np.random.random(length)*9+1\n",
    "    rand = []\n",
    "\n",
    "    for i in range(length):\n",
    "        if(rand_zero_one[i] <= 1/check[i]**2):\n",
    "            rand.append(check[i])\n",
    "\n",
    "    I = 0\n",
    "    for i in range(len(rand)):\n",
    "        I += math.sin(rand[i])**2\n",
    "\n",
    "    I = I/len(rand)\n",
    "    print(\"I: %f, error: %f, length: %i\" % (I, I-true_solution, length))\n",
    "    \n",
    "# doesn't seem to work that well"
   ]
  },
  {
   "cell_type": "markdown",
   "metadata": {},
   "source": [
    "## Markov Monte Carlo using Metropolis"
   ]
  },
  {
   "cell_type": "markdown",
   "metadata": {},
   "source": [
    "this is probably not correct..."
   ]
  },
  {
   "cell_type": "code",
   "execution_count": 305,
   "metadata": {},
   "outputs": [
    {
     "name": "stdout",
     "output_type": "stream",
     "text": [
      "0.900000445582\n"
     ]
    }
   ],
   "source": [
    "length = 10000000\n",
    "\n",
    "x = np.arange(length+1)*9/length+1\n",
    "delta_x = x[1]-x[0]\n",
    "# print(min(x), max(x), delta_x)\n",
    "y = [0]\n",
    "for i in range(length):\n",
    "    y.append(y[-1] + delta_x*1/x[i]**2)\n",
    "\n",
    "norm = y[-1]\n",
    "print(norm)"
   ]
  },
  {
   "cell_type": "code",
   "execution_count": 312,
   "metadata": {},
   "outputs": [
    {
     "name": "stdout",
     "output_type": "stream",
     "text": [
      "I: 0.509070, error: -0.142230, length: 100\n",
      "I: 0.613373, error: -0.037927, length: 1000\n",
      "I: 0.632708, error: -0.018592, length: 10000\n",
      "I: 0.616327, error: -0.034973, length: 100000\n",
      "I: 0.617811, error: -0.033489, length: 1000000\n",
      "I: 0.615701, error: -0.035599, length: 10000000\n"
     ]
    }
   ],
   "source": [
    "true_solution = 0.6513\n",
    "percent_warmup = 10\n",
    "\n",
    "# initialize\n",
    "step_size = 2.5\n",
    "length = 10\n",
    "\n",
    "for _ in range(6):\n",
    "    accept = 0\n",
    "    length *= 10\n",
    "\n",
    "    def p(x, norm):\n",
    "        if(x > 10):\n",
    "            return 0\n",
    "        elif(x < 1):\n",
    "            return 0\n",
    "        else:\n",
    "            return 1/(x**2*norm)\n",
    "\n",
    "    # get random numbers\n",
    "    rand = [random.random()*9+1]\n",
    "\n",
    "    for i in range(length):\n",
    "        x_new = rand[-1] + (random.random()-1/2)*step_size\n",
    "        r = p(x_new, norm)/p(rand[-1], norm)\n",
    "    #     print(i, r)\n",
    "        if(random.random() < min(1, r)):\n",
    "            rand.append(x_new)\n",
    "            accept +=1\n",
    "\n",
    "    I = 0\n",
    "    for i in range(int(len(rand)/percent_warmup), len(rand)):\n",
    "        I += math.sin(rand[i])**2\n",
    "\n",
    "    I = I/(len(rand)-len(rand)/percent_warmup)\n",
    "    print(\"I: %f, error: %f, length: %i\" % (I, I-true_solution, length))"
   ]
  },
  {
   "cell_type": "markdown",
   "metadata": {},
   "source": [
    "## Newton Temperaturabklingen"
   ]
  },
  {
   "cell_type": "code",
   "execution_count": 192,
   "metadata": {
    "scrolled": true
   },
   "outputs": [
    {
     "data": {
      "text/plain": [
       "[<matplotlib.lines.Line2D at 0x1210d47f0>]"
      ]
     },
     "execution_count": 192,
     "metadata": {},
     "output_type": "execute_result"
    },
    {
     "data": {
      "image/png": "[encoded data removed]",
      "text/plain": [
       "<matplotlib.figure.Figure at 0x121026208>"
      ]
     },
     "metadata": {
      "needs_background": "light"
     },
     "output_type": "display_data"
    }
   ],
   "source": [
    "T_e = 1500\n",
    "T_r = 300\n",
    "alpha = 0.05\n",
    "T = []\n",
    "\n",
    "for i in range(96):\n",
    "#     T.append(np.exp(-i*alpha) + T_r)\n",
    "    T.append(np.exp(-i*alpha)*(T_e-T_r) + T_r)\n",
    "\n",
    "T_num = [T_e]\n",
    "\n",
    "for i in range(96):\n",
    "    T_num.append(T_num[-1] - alpha*(T_num[-1]-T_r))\n",
    "\n",
    "plt.plot(T_num)\n",
    "plt.plot(T)"
   ]
  },
  {
   "cell_type": "code",
   "execution_count": null,
   "metadata": {},
   "outputs": [],
   "source": []
  },
  {
   "cell_type": "code",
   "execution_count": 181,
   "metadata": {
    "scrolled": true
   },
   "outputs": [
    {
     "data": {
      "text/plain": [
       "300.00865169520313"
      ]
     },
     "execution_count": 181,
     "metadata": {},
     "output_type": "execute_result"
    }
   ],
   "source": [
    "T[-1]"
   ]
  }
 ],
 "metadata": {
  "kernelspec": {
   "display_name": "Python 3",
   "language": "python",
   "name": "python3"
  },
  "language_info": {
   "codemirror_mode": {
    "name": "ipython",
    "version": 3
   },
   "file_extension": ".py",
   "mimetype": "text/x-python",
   "name": "python",
   "nbconvert_exporter": "python",
   "pygments_lexer": "ipython3",
   "version": "3.6.6"
  }
 },
 "nbformat": 4,
 "nbformat_minor": 2
}
