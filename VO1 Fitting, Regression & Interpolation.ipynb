{
 "cells": [
  {
   "cell_type": "markdown",
   "metadata": {},
   "source": [
    "# VO1 Fitting, Regression & Interpolation"
   ]
  },
  {
   "cell_type": "code",
   "execution_count": 1,
   "metadata": {},
   "outputs": [],
   "source": [
    "import numpy as np\n",
    "import random\n",
    "\n",
    "import matplotlib\n",
    "import matplotlib.pyplot as plt"
   ]
  },
  {
   "cell_type": "markdown",
   "metadata": {},
   "source": [
    "## Chi Squared Fitting"
   ]
  },
  {
   "cell_type": "markdown",
   "metadata": {},
   "source": [
    "### Create Test Function"
   ]
  },
  {
   "cell_type": "code",
   "execution_count": 2,
   "metadata": {},
   "outputs": [],
   "source": [
    "def test_func(x):\n",
    "    rand_arr = np.array([np.random.normal(0, 0.1) for elem in x])\n",
    "    return x/2+rand_arr/3"
   ]
  },
  {
   "cell_type": "code",
   "execution_count": 3,
   "metadata": {},
   "outputs": [],
   "source": [
    "def plot_interval(y, x=[], start_lim = 1000, interval = 100):\n",
    "    if(interval == -1):\n",
    "        end_lim = -1\n",
    "    else:\n",
    "        end_lim = start_lim + interval\n",
    "    if(len(x) == 0):\n",
    "        plt.scatter(np.arange(len(y[start_lim:end_lim])), y[start_lim:end_lim])\n",
    "    else:\n",
    "        plt.scatter(x[start_lim:end_lim], y[start_lim:end_lim])\n",
    "    plt.show()"
   ]
  },
  {
   "cell_type": "code",
   "execution_count": 4,
   "metadata": {},
   "outputs": [
    {
     "data": {
      "image/png": "[encoded data removed]",
      "text/plain": [
       "<matplotlib.figure.Figure at 0x110414940>"
      ]
     },
     "metadata": {
      "needs_background": "light"
     },
     "output_type": "display_data"
    }
   ],
   "source": [
    "x = (np.arange(100)+1)/100\n",
    "y = test_func(x)\n",
    "\n",
    "plot_interval(y, x, start_lim=0, interval=-1)"
   ]
  },
  {
   "cell_type": "markdown",
   "metadata": {},
   "source": [
    "### Create Fit Function"
   ]
  },
  {
   "cell_type": "code",
   "execution_count": 5,
   "metadata": {},
   "outputs": [],
   "source": [
    "def fit_func(x, a, b):\n",
    "    return a + x*b"
   ]
  },
  {
   "cell_type": "code",
   "execution_count": 6,
   "metadata": {},
   "outputs": [
    {
     "data": {
      "image/png": "[encoded data removed]",
      "text/plain": [
       "<matplotlib.figure.Figure at 0x116e41fd0>"
      ]
     },
     "metadata": {
      "needs_background": "light"
     },
     "output_type": "display_data"
    }
   ],
   "source": [
    "# TEST\n",
    "f = fit_func(x, random.random(), random.random())\n",
    "plot_interval(f, x, start_lim=0, interval=-1)"
   ]
  },
  {
   "cell_type": "markdown",
   "metadata": {},
   "source": [
    "### Chi Squared Test"
   ]
  },
  {
   "cell_type": "code",
   "execution_count": 7,
   "metadata": {},
   "outputs": [
    {
     "name": "stdout",
     "output_type": "stream",
     "text": [
      "chi_sqared: 178399.979283\n"
     ]
    }
   ],
   "source": [
    "# Possible Error\n",
    "sigma = 0.05\n",
    "chi_sqared = sum((y-f))**2/sigma\n",
    "print(\"chi_sqared: %f\" % chi_sqared)"
   ]
  },
  {
   "cell_type": "markdown",
   "metadata": {},
   "source": [
    "## Linear Regression"
   ]
  },
  {
   "cell_type": "code",
   "execution_count": 8,
   "metadata": {
    "scrolled": false
   },
   "outputs": [
    {
     "name": "stdout",
     "output_type": "stream",
     "text": [
      "stopped at iteration: 263\n",
      "mse: 0.0000000612\n",
      "error_b1: 0.005145\n",
      "error_a: 0.000049\n"
     ]
    },
    {
     "data": {
      "image/png": "[encoded data removed]",
      "text/plain": [
       "<matplotlib.figure.Figure at 0x116f5d278>"
      ]
     },
     "metadata": {
      "needs_background": "light"
     },
     "output_type": "display_data"
    }
   ],
   "source": [
    "# Learning Rate\n",
    "alpha = 0.01\n",
    "a = random.random()\n",
    "b = random.random()\n",
    "\n",
    "# points we want to fit curve on: y\n",
    "# curve to perform fit: f\n",
    "\n",
    "for i in range(10001):\n",
    "    # Forward Pass\n",
    "    f = fit_func(x, a, b)\n",
    "\n",
    "    # MSE\n",
    "    mse = sum((f-y))**2/len(f)\n",
    "\n",
    "    # Weight Errors\n",
    "    error_a = 2*sum((f-y))/len(f)\n",
    "    error_b = 2*sum(x*(f-y))/len(f)\n",
    "\n",
    "    # Update\n",
    "    a -= alpha*error_a\n",
    "    b -= alpha*error_b\n",
    "    \n",
    "#     if(i%100 == 0 and i < 301):\n",
    "#         print(mse, error_a, error_b)\n",
    "#         plt.scatter(np.arange(len(x)), y)\n",
    "#         plt.plot(np.arange(len(x)), f)\n",
    "#         plt.show()\n",
    "        \n",
    "    if(mse < 0.0000001):\n",
    "        print(\"stopped at iteration: %i\" % i)\n",
    "        print(\"mse: %.10f\" % mse)\n",
    "        print(\"error_b1: %f\" % error_b)\n",
    "        print(\"error_a: %f\" % error_a)\n",
    "        plt.scatter(np.arange(len(x)), y)\n",
    "        plt.plot(np.arange(len(x)), f)\n",
    "        plt.show()\n",
    "        break"
   ]
  },
  {
   "cell_type": "markdown",
   "metadata": {},
   "source": [
    "# Interpolation"
   ]
  },
  {
   "cell_type": "code",
   "execution_count": 100,
   "metadata": {},
   "outputs": [],
   "source": [
    "# y = np.array([0,0,0.2,0.8,3,7,3,0.8,0.2,0,0,0])\n",
    "y = np.array([0.2,0.8,3,7,3,0.8,0.2,0])\n",
    "x = np.arange(len(y), dtype=np.float)"
   ]
  },
  {
   "cell_type": "code",
   "execution_count": 101,
   "metadata": {},
   "outputs": [
    {
     "data": {
      "image/png": "[encoded data removed]",
      "text/plain": [
       "<matplotlib.figure.Figure at 0x117324be0>"
      ]
     },
     "metadata": {
      "needs_background": "light"
     },
     "output_type": "display_data"
    }
   ],
   "source": [
    "plot_interval(y, x, 0, -1)"
   ]
  },
  {
   "cell_type": "markdown",
   "metadata": {},
   "source": [
    "## Newtons Divided Differences"
   ]
  },
  {
   "cell_type": "code",
   "execution_count": 119,
   "metadata": {},
   "outputs": [
    {
     "data": {
      "text/plain": [
       "[0.20000000000000001,\n",
       " 0.60000000000000009,\n",
       " 0.80000000000000004,\n",
       " 0.033333333333333291,\n",
       " -0.41666666666666669,\n",
       " 0.24666666666666667,\n",
       " -0.082222222222222224,\n",
       " 0.019404761904761904]"
      ]
     },
     "execution_count": 119,
     "metadata": {},
     "output_type": "execute_result"
    }
   ],
   "source": [
    "constants = []\n",
    "diff = y\n",
    "constants.append(diff[0])\n",
    "\n",
    "for i in range(1, len(diff)):\n",
    "    diff_new  = (diff[1:]-diff[:-1])/(x[i:]-x[:-i])\n",
    "    diff = diff_new\n",
    "    constants.append(diff[0])\n",
    "constants"
   ]
  },
  {
   "cell_type": "code",
   "execution_count": 120,
   "metadata": {},
   "outputs": [],
   "source": [
    "def evaluate_newton(constants, x, x_curr):\n",
    "    res = 0\n",
    "    for i in range(len(constants)):\n",
    "        multiplier = 1\n",
    "        for j in range(i):\n",
    "            multiplier *= (x_curr-x[j])\n",
    "        res += constants[i]*multiplier\n",
    "        \n",
    "    return res"
   ]
  },
  {
   "cell_type": "code",
   "execution_count": 122,
   "metadata": {},
   "outputs": [],
   "source": [
    "# Evaluate Function\n",
    "eval_x = np.arange(len(x)*10)/10\n",
    "eval_x = eval_x[eval_x<max(x)]\n",
    "# eval_x = eval_x[(eval_x<max(x)-1) & (eval_x>min(x)+1)]\n",
    "\n",
    "fit_y = []\n",
    "for x_curr in eval_x:\n",
    "    fit_y.append(evaluate_newton(constants, x, x_curr))"
   ]
  },
  {
   "cell_type": "code",
   "execution_count": 125,
   "metadata": {},
   "outputs": [
    {
     "data": {
      "image/png": "[encoded data removed]",
      "text/plain": [
       "<matplotlib.figure.Figure at 0x117175b70>"
      ]
     },
     "metadata": {
      "needs_background": "light"
     },
     "output_type": "display_data"
    }
   ],
   "source": [
    "plt.title(\"Newton Interpolation and Abscisses\")\n",
    "plt.scatter(eval_x, fit_y)\n",
    "plt.scatter(x, y)\n",
    "plt.show()"
   ]
  },
  {
   "cell_type": "markdown",
   "metadata": {},
   "source": [
    "Here we have classic example of what happens if you try to model function with polynomials of high degrees. -> Oscillations."
   ]
  },
  {
   "cell_type": "markdown",
   "metadata": {},
   "source": [
    "To fix this let's try Cubic Spline Interpolation."
   ]
  },
  {
   "cell_type": "markdown",
   "metadata": {},
   "source": [
    "## Cubic Spline Interpolation"
   ]
  },
  {
   "cell_type": "code",
   "execution_count": 134,
   "metadata": {},
   "outputs": [
    {
     "data": {
      "image/png": "[encoded data removed]",
      "text/plain": [
       "<matplotlib.figure.Figure at 0x110431908>"
      ]
     },
     "metadata": {
      "needs_background": "light"
     },
     "output_type": "display_data"
    }
   ],
   "source": [
    "y = np.array([0,0.2,0.8,3,7,3,0.8,0.2,0,0])\n",
    "x = np.arange(len(y), dtype=np.float)\n",
    "plot_interval(y, x, 0, -1)"
   ]
  },
  {
   "cell_type": "code",
   "execution_count": 191,
   "metadata": {},
   "outputs": [],
   "source": [
    "# def cubic_interpolator(p, x):\n",
    "#     print(\"a: %f\" % p[1])\n",
    "#     print(\"b: %f\" % (0.5*(p[2] - p[0])))\n",
    "#     print(\"c: %f\" % (0.5*(2.0*p[0] - 5.0*p[1] + 4.0 * p[2] - p[3])))\n",
    "#     print(\"d: %f\" % (0.5*(3.0*(p[1] - p[2]) + p[3] - p[0])))\n",
    "    \n",
    "#     return p[1] + \\\n",
    "#             0.5 * x*(p[2] - p[0] + \\\n",
    "#             x*(2.0*p[0] - 5.0*p[1] + 4.0 * p[2] - p[3] + \\\n",
    "#             x*(3.0*(p[1] - p[2]) + p[3] - p[0])))\n",
    "\n",
    "\n",
    "def cubic_interpolator(p, x, start_idx):\n",
    "#     print(\"f(0): %f\" % (p[1]))\n",
    "#     print(\"f(1): %f\" % (p[2]))\n",
    "#     print(\"f'(0): %f\" % ((p[2]-p[0])/2))\n",
    "#     print(\"f'(1): %f\" % ((p[3]-p[1])/2))\n",
    "    return p[1] + \\\n",
    "            0.5 * (x-start_idx)*(p[2] - p[0] + \\\n",
    "            (x-start_idx)*(2.0*p[0] - 5.0*p[1] + 4.0 * p[2] - p[3] + \\\n",
    "            (x-start_idx)*(3.0*(p[1] - p[2]) + p[3] - p[0])))\n",
    "\n",
    "\n",
    "def cubic_interpolator(p, x, start_idx):\n",
    "    return p[1] + \\\n",
    "            0.5 * (x-start_idx)*(p[2] - p[0] + \\\n",
    "            (x-start_idx)*(2.0*p[0] - 5.0*p[1] + 4.0 * p[2] - p[3] + \\\n",
    "            (x-start_idx)*(3.0*(p[1] - p[2]) + p[3] - p[0])))"
   ]
  },
  {
   "cell_type": "code",
   "execution_count": 192,
   "metadata": {},
   "outputs": [
    {
     "data": {
      "text/plain": [
       "array([ 0. ,  0.1,  0.2,  0.3,  0.4,  0.5,  0.6,  0.7,  0.8,  0.9,  1. ,\n",
       "        1.1,  1.2,  1.3,  1.4,  1.5,  1.6,  1.7,  1.8,  1.9,  2. ,  2.1,\n",
       "        2.2,  2.3,  2.4,  2.5,  2.6,  2.7,  2.8,  2.9,  3. ,  3.1,  3.2,\n",
       "        3.3,  3.4,  3.5,  3.6,  3.7,  3.8,  3.9,  4. ,  4.1,  4.2,  4.3,\n",
       "        4.4,  4.5,  4.6,  4.7,  4.8,  4.9,  5. ,  5.1,  5.2,  5.3,  5.4,\n",
       "        5.5,  5.6,  5.7,  5.8,  5.9,  6. ,  6.1,  6.2,  6.3,  6.4,  6.5,\n",
       "        6.6,  6.7,  6.8,  6.9,  7. ,  7.1,  7.2,  7.3,  7.4,  7.5,  7.6,\n",
       "        7.7,  7.8,  7.9,  8. ,  8.1,  8.2,  8.3,  8.4,  8.5,  8.6,  8.7,\n",
       "        8.8,  8.9])"
      ]
     },
     "execution_count": 192,
     "metadata": {},
     "output_type": "execute_result"
    }
   ],
   "source": [
    "# Evaluate Function\n",
    "eval_x = np.arange(len(x)*10)/10\n",
    "eval_x = eval_x[eval_x<max(x)]\n",
    "\n",
    "# eval_x = eval_x[0::3][:15]\n",
    "eval_x"
   ]
  },
  {
   "cell_type": "code",
   "execution_count": 193,
   "metadata": {},
   "outputs": [],
   "source": [
    "fit_y = []\n",
    "fit_x = []\n",
    "\n",
    "for x_curr in eval_x:\n",
    "    start_idx = np.floor(x_curr)-1\n",
    "    end_idx = np.ceil(x_curr)+2\n",
    "    if(end_idx-start_idx == 3):\n",
    "        end_idx += 1\n",
    "#     print(x_curr, start_idx, end_idx, end_idx-start_idx)\n",
    "    \n",
    "    if(start_idx >= 0 and np.floor(max(eval_x)) > x_curr):\n",
    "#         print(y[int(start_idx):int(end_idx)])\n",
    "        fit_y.append(cubic_interpolator(\n",
    "            y[int(start_idx):int(end_idx)], x_curr, start_idx))\n",
    "        fit_x.append(x_curr)"
   ]
  },
  {
   "cell_type": "code",
   "execution_count": 194,
   "metadata": {},
   "outputs": [
    {
     "data": {
      "image/png": "[encoded data removed]",
      "text/plain": [
       "<matplotlib.figure.Figure at 0x1177fe6d8>"
      ]
     },
     "metadata": {
      "needs_background": "light"
     },
     "output_type": "display_data"
    }
   ],
   "source": [
    "# plt.title(\"Newton Interpolation and Abscisses\")\n",
    "# plt.scatter(eval_x, fit_y)\n",
    "plt.scatter(fit_x, fit_y)\n",
    "plt.scatter(x, y)\n",
    "plt.show()"
   ]
  },
  {
   "cell_type": "markdown",
   "metadata": {},
   "source": [
    "# Some error, to be finished."
   ]
  },
  {
   "cell_type": "markdown",
   "metadata": {},
   "source": [
    "One thing that is definetly wrong: the start and end points of the interpolation must sit on abscisses."
   ]
  },
  {
   "cell_type": "code",
   "execution_count": null,
   "metadata": {},
   "outputs": [],
   "source": []
  }
 ],
 "metadata": {
  "kernelspec": {
   "display_name": "Python 3",
   "language": "python",
   "name": "python3"
  },
  "language_info": {
   "codemirror_mode": {
    "name": "ipython",
    "version": 3
   },
   "file_extension": ".py",
   "mimetype": "text/x-python",
   "name": "python",
   "nbconvert_exporter": "python",
   "pygments_lexer": "ipython3",
   "version": "3.6.6"
  }
 },
 "nbformat": 4,
 "nbformat_minor": 2
}
